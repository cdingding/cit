{
 "cells": [
  {
   "cell_type": "markdown",
   "metadata": {},
   "source": [
    "## 1. Follow the Readme.md in the link below to install citSampler\n",
    "* https://github.com/cdingding/citSampler"
   ]
  },
  {
   "cell_type": "markdown",
   "metadata": {},
   "source": [
    "## 2. Then import the installed class and functions from the package"
   ]
  },
  {
   "cell_type": "code",
   "execution_count": 3,
   "metadata": {},
   "outputs": [],
   "source": [
    "from citSampler import Constraint,sampler,testOutputVectors"
   ]
  },
  {
   "cell_type": "markdown",
   "metadata": {},
   "source": [
    "## 3. Change directory that contain the input files"
   ]
  },
  {
   "cell_type": "code",
   "execution_count": 1,
   "metadata": {},
   "outputs": [
    {
     "name": "stdout",
     "output_type": "stream",
     "text": [
      "/Users/changsongding/Dropbox/citrine-challenge\n"
     ]
    }
   ],
   "source": [
    "cd '/Users/changsongding/Dropbox/citrine-challenge'"
   ]
  },
  {
   "cell_type": "markdown",
   "metadata": {},
   "source": [
    "## 4. Sampling with the input file containing the constraints\n",
    "Example:\n",
    "* input file: 'example.txt'\n",
    "* output file: 'example_sample_inJupyter.txt'\n",
    "* number of results: 100"
   ]
  },
  {
   "cell_type": "code",
   "execution_count": 5,
   "metadata": {
    "scrolled": true
   },
   "outputs": [
    {
     "name": "stdout",
     "output_type": "stream",
     "text": [
      "example: [0.5, 1.0, 0.0, 0.5]\n",
      "res: [0.58926 0.62116 0.60611 0.18347]\n"
     ]
    },
    {
     "data": {
      "text/plain": [
       "[array([0.86797, 0.74974, 0.11327, 0.26902]),\n",
       " array([0.85834, 0.76544, 0.0853 , 0.29091]),\n",
       " array([0.70372, 0.29427, 0.77651, 0.2255 ]),\n",
       " array([0.76819, 0.5102 , 0.27263, 0.44898]),\n",
       " array([0.5567 , 0.69627, 0.58397, 0.16305]),\n",
       " array([0.64544, 0.56732, 0.78062, 0.00662]),\n",
       " array([1.05673, 0.46423, 0.23686, 0.24218]),\n",
       " array([0.54174, 1.01915, 0.0295 , 0.40961]),\n",
       " array([1.17546, 0.20133, 0.59157, 0.03164]),\n",
       " array([0.86278, 0.48246, 0.62591, 0.02885]),\n",
       " array([0.58611, 0.43402, 0.57794, 0.40193]),\n",
       " array([0.86987, 0.43605, 0.65933, 0.03474]),\n",
       " array([0.58506, 0.68138, 0.19966, 0.5339 ]),\n",
       " array([0.86152, 0.64639, 0.42893, 0.06316]),\n",
       " array([0.56726, 0.73055, 0.55324, 0.14895]),\n",
       " array([0.50022, 0.57291, 0.6357 , 0.29116]),\n",
       " array([0.56764, 0.84404, 0.04192, 0.5464 ]),\n",
       " array([0.74154, 0.56347, 0.52819, 0.1668 ]),\n",
       " array([0.81973, 0.6097 , 0.03435, 0.53623]),\n",
       " array([0.55185, 0.65396, 0.42981, 0.36438]),\n",
       " array([0.68318, 0.44761, 0.71601, 0.15319]),\n",
       " array([0.59103, 0.33064, 0.80362, 0.27471]),\n",
       " array([0.59853, 1.07178, 0.22869, 0.101  ]),\n",
       " array([0.67183, 0.59185, 0.21632, 0.51999]),\n",
       " array([0.50229, 0.58406, 0.36351, 0.55014]),\n",
       " array([1.10359, 0.57027, 0.09028, 0.23586]),\n",
       " array([1.00544, 0.50896, 0.38152, 0.10408]),\n",
       " array([0.94964, 0.62129, 0.42434, 0.00472]),\n",
       " array([0.85246, 0.65913, 0.20294, 0.28547]),\n",
       " array([0.68127, 0.59373, 0.66977, 0.05523]),\n",
       " array([0.71254, 0.56904, 0.66997, 0.04845]),\n",
       " array([0.81911, 0.4127 , 0.54474, 0.22345]),\n",
       " array([0.50786, 0.51343, 0.76779, 0.21092]),\n",
       " array([1.01875, 0.7584 , 0.18016, 0.04269]),\n",
       " array([1.05438, 0.42665, 0.43219, 0.08677]),\n",
       " array([0.5106 , 0.46719, 0.63404, 0.38817]),\n",
       " array([0.55768, 0.55534, 0.63174, 0.25525]),\n",
       " array([0.66305, 0.58679, 0.57074, 0.17941]),\n",
       " array([0.70361, 0.90621, 0.19165, 0.19853]),\n",
       " array([0.55729, 0.41791, 0.60762, 0.41717]),\n",
       " array([0.67312, 0.62775, 0.62661, 0.07252]),\n",
       " array([0.89432, 0.6327 , 0.44007, 0.03292]),\n",
       " array([0.88211, 0.33809, 0.62172, 0.15808]),\n",
       " array([0.82238, 0.49189, 0.53815, 0.14757]),\n",
       " array([0.68963, 0.56207, 0.69682, 0.05148]),\n",
       " array([0.70067, 0.35708, 0.64777, 0.29448]),\n",
       " array([0.66003, 0.54079, 0.68839, 0.11079]),\n",
       " array([0.70272, 0.72688, 0.34847, 0.22193]),\n",
       " array([0.72321, 0.61968, 0.22488, 0.43223]),\n",
       " array([0.61876, 0.72112, 0.42309, 0.23704]),\n",
       " array([0.7446 , 0.26188, 0.8767 , 0.11682]),\n",
       " array([0.77479, 0.40345, 0.81745, 0.0043 ]),\n",
       " array([0.5004 , 0.66314, 0.34887, 0.48759]),\n",
       " array([0.87468, 0.47227, 0.21594, 0.43711]),\n",
       " array([0.93142, 0.4932 , 0.22417, 0.35122]),\n",
       " array([0.77786, 0.54762, 0.47318, 0.20133]),\n",
       " array([0.62727, 0.66719, 0.49043, 0.2151 ]),\n",
       " array([0.67831, 0.62427, 0.15711, 0.54031]),\n",
       " array([0.56769, 0.4776 , 0.86414, 0.09057]),\n",
       " array([1.19037, 0.38561, 0.20886, 0.21515]),\n",
       " array([1.09359, 0.6466 , 0.10455, 0.15527]),\n",
       " array([0.66994, 0.72709, 0.04087, 0.56211]),\n",
       " array([0.87816, 0.43656, 0.30535, 0.37993]),\n",
       " array([0.66152, 0.8152 , 0.37116, 0.15211]),\n",
       " array([0.96448, 0.36164, 0.59102, 0.08285]),\n",
       " array([0.81022, 0.88683, 0.13086, 0.17209]),\n",
       " array([0.88246, 0.59955, 0.05203, 0.46597]),\n",
       " array([0.67393, 0.69336, 0.11186, 0.52085]),\n",
       " array([0.54992, 0.53482, 0.50162, 0.41364]),\n",
       " array([0.5627 , 0.50026, 0.62367, 0.31337]),\n",
       " array([0.56169, 0.46762, 0.51298, 0.4577 ]),\n",
       " array([0.85841, 0.78137, 0.35291, 0.00732]),\n",
       " array([0.77913, 0.52467, 0.23949, 0.45671]),\n",
       " array([0.63824, 0.60941, 0.58801, 0.16433]),\n",
       " array([0.52437, 0.6108 , 0.30614, 0.55869]),\n",
       " array([0.5981 , 0.53497, 0.59935, 0.26758]),\n",
       " array([0.60894, 0.61979, 0.26434, 0.50693]),\n",
       " array([0.62312, 0.53274, 0.77353, 0.0706 ]),\n",
       " array([0.92135, 0.63554, 0.1346 , 0.30851]),\n",
       " array([0.76506, 0.48834, 0.71508, 0.03152]),\n",
       " array([0.83045, 0.22288, 0.9397 , 0.00697]),\n",
       " array([0.68187, 0.71193, 0.5954 , 0.0108 ]),\n",
       " array([1.09888, 0.70477, 0.03278, 0.16356]),\n",
       " array([0.70522, 0.57871, 0.13987, 0.57621]),\n",
       " array([0.66743, 0.58838, 0.27149, 0.4727 ]),\n",
       " array([0.68722, 0.70422, 0.11892, 0.48964]),\n",
       " array([0.57592, 0.87125, 0.28339, 0.26945]),\n",
       " array([0.55835, 0.74623, 0.06226, 0.63315]),\n",
       " array([0.76377, 0.46684, 0.59054, 0.17886]),\n",
       " array([0.58233, 0.69971, 0.15566, 0.5623 ]),\n",
       " array([0.54557, 0.85738, 0.0921 , 0.50495]),\n",
       " array([0.93677, 0.43098, 0.47189, 0.16035]),\n",
       " array([0.69627, 0.57156, 0.44068, 0.29149]),\n",
       " array([0.60275, 0.65276, 0.7157 , 0.02879]),\n",
       " array([0.54538, 0.61525, 0.57493, 0.26444]),\n",
       " array([0.617  , 0.87156, 0.50016, 0.01128]),\n",
       " array([0.54236, 0.68404, 0.14893, 0.62466]),\n",
       " array([0.59166, 1.12272, 0.18036, 0.10525]),\n",
       " array([0.5809 , 0.79601, 0.28235, 0.34074]),\n",
       " array([0.58926, 0.62116, 0.60611, 0.18347])]"
      ]
     },
     "execution_count": 5,
     "metadata": {},
     "output_type": "execute_result"
    }
   ],
   "source": [
    "sampler('example.txt','example_sample_inJupyter.txt',100)"
   ]
  },
  {
   "cell_type": "markdown",
   "metadata": {},
   "source": [
    "## 5. Use the Constraint and input file to generate evaluation function"
   ]
  },
  {
   "cell_type": "code",
   "execution_count": 6,
   "metadata": {},
   "outputs": [
    {
     "name": "stdout",
     "output_type": "stream",
     "text": [
      "lines[0] is:  4\n",
      "\n"
     ]
    }
   ],
   "source": [
    "ct = Constraint('example.txt')"
   ]
  },
  {
   "cell_type": "code",
   "execution_count": 7,
   "metadata": {},
   "outputs": [
    {
     "data": {
      "text/plain": [
       "[0.5, 1.0, 0.0, 0.5]"
      ]
     },
     "execution_count": 7,
     "metadata": {},
     "output_type": "execute_result"
    }
   ],
   "source": [
    "ct.get_example()"
   ]
  },
  {
   "cell_type": "markdown",
   "metadata": {},
   "source": [
    "## 6. Test all the vectors in the output file\n",
    "* If all pass, then True\n",
    "* If one or more failes, then False"
   ]
  },
  {
   "cell_type": "code",
   "execution_count": 8,
   "metadata": {},
   "outputs": [
    {
     "name": "stdout",
     "output_type": "stream",
     "text": [
      "lines[0] is:  0.64739 0.40741 0.60383 0.34137\n",
      "\n"
     ]
    },
    {
     "data": {
      "text/plain": [
       "True"
      ]
     },
     "execution_count": 8,
     "metadata": {},
     "output_type": "execute_result"
    }
   ],
   "source": [
    "fname = 'example_sample_inJupyter.txt'\n",
    "testOutputVectors(fname,ct)"
   ]
  },
  {
   "cell_type": "markdown",
   "metadata": {},
   "source": [
    "## 7. View the output file"
   ]
  },
  {
   "cell_type": "code",
   "execution_count": 9,
   "metadata": {},
   "outputs": [],
   "source": [
    "%pycat example_sample_inJupyter.txt"
   ]
  },
  {
   "cell_type": "code",
   "execution_count": null,
   "metadata": {},
   "outputs": [],
   "source": []
  }
 ],
 "metadata": {
  "kernelspec": {
   "display_name": "Python 3",
   "language": "python",
   "name": "python3"
  },
  "language_info": {
   "codemirror_mode": {
    "name": "ipython",
    "version": 3
   },
   "file_extension": ".py",
   "mimetype": "text/x-python",
   "name": "python",
   "nbconvert_exporter": "python",
   "pygments_lexer": "ipython3",
   "version": "3.7.3"
  }
 },
 "nbformat": 4,
 "nbformat_minor": 2
}
